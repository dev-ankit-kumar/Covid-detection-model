{
 "cells": [
  {
   "cell_type": "code",
   "execution_count": 4,
   "id": "9aca44d6-7a7b-4ae0-a108-5df0ac579cc4",
   "metadata": {},
   "outputs": [
    {
     "name": "stderr",
     "output_type": "stream",
     "text": [
      "usage: ipykernel_launcher.py [-h] -i IMAGE\n",
      "ipykernel_launcher.py: error: the following arguments are required: -i/--image\n"
     ]
    },
    {
     "ename": "SystemExit",
     "evalue": "2",
     "output_type": "error",
     "traceback": [
      "An exception has occurred, use %tb to see the full traceback.\n",
      "\u001b[1;31mSystemExit\u001b[0m\u001b[1;31m:\u001b[0m 2\n"
     ]
    }
   ],
   "source": [
    "# USAGE\n",
    "# python corona.py --image image_path\n",
    "\n",
    "import cv2\n",
    "import numpy as np \n",
    "import argparse\n",
    "from tensorflow.keras.models import load_model\n",
    "from tensorflow.keras.optimizers import Adam\n",
    "import matplotlib.pyplot as plt\n",
    "import tensorflow.compat.v1 as tf\n",
    "tf.disable_v2_behavior()\n",
    "\n",
    "def test(img):\n",
    "    font = cv2.FONT_HERSHEY_SIMPLEX\n",
    "    model = load_model('covid19.h5')\n",
    "\n",
    "    img = cv2.imread(img)\n",
    "    img = cv2.resize(img,(224, 224))\n",
    "    result_img = cv2.resize(img,(600, 600))\n",
    "    #plt.imshow(img)\n",
    "    img = np.reshape(img,[1,224,224,3])\n",
    "    array = model.predict(img)\n",
    "    result = array.argmax(axis=-1)\n",
    "    print(array)\n",
    "    print(result)\n",
    "    if result[0] == 1:\n",
    "        prediction = 'normal'\n",
    "    else:\n",
    "        prediction = 'covid'\n",
    "\n",
    "    print(\"Result : \", prediction)\n",
    "    if prediction == 'normal':\n",
    "        color = (0, 255, 0)\n",
    "    else:\n",
    "        color = (0, 0, 255) \n",
    "    cv2.putText(result_img,prediction,(25,25), font, 1, color, 2, cv2.LINE_AA)\n",
    "\n",
    "    return result_img\n",
    "\n",
    "ap = argparse.ArgumentParser()\n",
    "ap.add_argument(\"-i\", \"--image\", required=True, help=\"path to testing x-ray image\")\n",
    "args = vars(ap.parse_args())\n",
    "\n",
    "result_img = test(args[\"image\"])\n",
    "cv2.imshow(\"Result\",result_img)\n",
    "cv2.waitKey(0)\n",
    "\n"
   ]
  },
  {
   "cell_type": "code",
   "execution_count": 2,
   "id": "26ab7302-f988-43e6-852c-159e64cdb728",
   "metadata": {},
   "outputs": [
    {
     "name": "stdout",
     "output_type": "stream",
     "text": [
      "\n",
      "1/1 [==============================] - ETA: 0s\n",
      "1/1 [==============================] - 1s 516ms/step\n",
      "Result: covid\n"
     ]
    },
    {
     "name": "stderr",
     "output_type": "stream",
     "text": [
      "WARNING:tensorflow:From c:\\Users\\Ankit Kumar\\scoop\\apps\\python\\current\\Lib\\site-packages\\tensorflow\\python\\compat\\v2_compat.py:108: disable_resource_variables (from tensorflow.python.ops.variable_scope) is deprecated and will be removed in a future version.\n",
      "Instructions for updating:\n",
      "non-resource variables are not supported in the long term\n",
      "2024-04-10 10:30:01.697025: I tensorflow/core/platform/cpu_feature_guard.cc:182] This TensorFlow binary is optimized to use available CPU instructions in performance-critical operations.\n",
      "To enable the following instructions: SSE SSE2 SSE3 SSE4.1 SSE4.2 AVX AVX2 FMA, in other operations, rebuild TensorFlow with the appropriate compiler flags.\n"
     ]
    }
   ],
   "source": [
    "!python corona.py --image test_set/patient1.png\n"
   ]
  }
 ],
 "metadata": {
  "kernelspec": {
   "display_name": "Python 3 (ipykernel)",
   "language": "python",
   "name": "python3"
  },
  "language_info": {
   "codemirror_mode": {
    "name": "ipython",
    "version": 3
   },
   "file_extension": ".py",
   "mimetype": "text/x-python",
   "name": "python",
   "nbconvert_exporter": "python",
   "pygments_lexer": "ipython3",
   "version": "3.11.1"
  }
 },
 "nbformat": 4,
 "nbformat_minor": 5
}
